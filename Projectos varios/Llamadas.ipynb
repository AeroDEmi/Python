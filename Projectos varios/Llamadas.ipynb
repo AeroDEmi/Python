{
 "cells": [
  {
   "cell_type": "code",
   "execution_count": 2,
   "metadata": {},
   "outputs": [],
   "source": [
    "data = {1 : ['USA', 0.13],\n",
    "        2 : ['Canadá', 0.11],\n",
    "        5 : ['América del sur', 0.22],\n",
    "        6 : ['América central', 0.19],\n",
    "        7 : ['México', 0.17],\n",
    "        9 : ['Europa', 0.17],\n",
    "        10 : ['Asia', 0.20],\n",
    "        15 : ['África', 0.39],\n",
    "        20 : ['Oceanía', 0.28]}"
   ]
  },
  {
   "cell_type": "code",
   "execution_count": 31,
   "metadata": {},
   "outputs": [],
   "source": [
    "def llamadas():\n",
    "    #Imprimimos el diccionario\n",
    "    for i in data:\n",
    "        print('{:<3} {:<18} ${:<4}'.format(i, data[i][0], data[i][1]))\n",
    "        \n",
    "    #El usuario nos da la clave y comprobamos que si exista dentro del diccionario\n",
    "    clave = int(input('Dame la clave de la zona a llamar \\n'))\n",
    "    if clave not in data:\n",
    "        print('Error, esa clave no existe')\n",
    "        return\n",
    "    \n",
    "    #El ususario nos da el número de mintuso y los multiplicamos por el valor numérico del diccionario\n",
    "    minutos = int(input('¿Cuántos minutos será la duración de la llamada? \\n'))\n",
    "    costo = data[clave][1] * minutos \n",
    "    \n",
    "    #Regresamos el costo de la llamada al país seleccionado\n",
    "    return print('El costo de la llamada a {} es de ${}'.format(data[clave][0], round(costo, 3)))"
   ]
  },
  {
   "cell_type": "code",
   "execution_count": 34,
   "metadata": {
    "scrolled": true
   },
   "outputs": [
    {
     "name": "stdout",
     "output_type": "stream",
     "text": [
      "1   USA                $0.13\n",
      "2   Canadá             $0.11\n",
      "5   América del sur    $0.22\n",
      "6   América central    $0.19\n",
      "7   México             $0.17\n",
      "9   Europa             $0.17\n",
      "10  Asia               $0.2 \n",
      "15  África             $0.39\n",
      "20  Oceanía            $0.28\n",
      "Dame la clave de la zona a llamar \n",
      "0\n",
      "Error, esa clave no existe\n"
     ]
    }
   ],
   "source": [
    "llamadas()"
   ]
  },
  {
   "cell_type": "code",
   "execution_count": null,
   "metadata": {},
   "outputs": [],
   "source": []
  }
 ],
 "metadata": {
  "kernelspec": {
   "display_name": "Python 3",
   "language": "python",
   "name": "python3"
  },
  "language_info": {
   "codemirror_mode": {
    "name": "ipython",
    "version": 3
   },
   "file_extension": ".py",
   "mimetype": "text/x-python",
   "name": "python",
   "nbconvert_exporter": "python",
   "pygments_lexer": "ipython3",
   "version": "3.7.6"
  }
 },
 "nbformat": 4,
 "nbformat_minor": 4
}
