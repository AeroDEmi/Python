{
 "cells": [
  {
   "cell_type": "code",
   "execution_count": 1,
   "metadata": {},
   "outputs": [],
   "source": [
    "import matplotlib.pyplot as plt\n",
    "import random"
   ]
  },
  {
   "cell_type": "code",
   "execution_count": 2,
   "metadata": {},
   "outputs": [],
   "source": [
    "import numpy as np"
   ]
  },
  {
   "cell_type": "code",
   "execution_count": 47,
   "metadata": {},
   "outputs": [],
   "source": [
    "def puntos(num):\n",
    "    puntos = []\n",
    "    for i in range(num):\n",
    "        x, y = i, random.random()*100\n",
    "        color = np.array(np.random.choice(range(256), size=3))\n",
    "        #color = '#%02x%02x%02x' % color\n",
    "        color = '#{:02x}{:02x}{:02x}'.format(color[0], color[1], color[2])\n",
    "        puntos.append([x, y, color])\n",
    "    return puntos"
   ]
  },
  {
   "cell_type": "code",
   "execution_count": 48,
   "metadata": {},
   "outputs": [],
   "source": [
    "def sort(points):\n",
    "    for i in range(len(points)):\n",
    "        for j in range(len(points)):\n",
    "            if points[j][1] < points[i][1]:\n",
    "                points[j][1] , points[i][1] = points[i][1], points[j][1]\n",
    "            #if points[j][2] < points[i][2]:\n",
    "                #points[j][2] , points[i][2] = points[i][2], points[j][2]\n",
    "    return points"
   ]
  },
  {
   "cell_type": "code",
   "execution_count": 49,
   "metadata": {
    "scrolled": true
   },
   "outputs": [
    {
     "data": {
      "text/plain": [
       "[[0, 99.65461753229144, '#a90715'],\n",
       " [1, 99.14509503494982, '#b43271'],\n",
       " [2, 97.66794995633876, '#a69ea1'],\n",
       " [3, 97.14095377904889, '#82678c'],\n",
       " [4, 96.24444728450537, '#d74ab7'],\n",
       " [5, 95.95399741297958, '#74bfeb'],\n",
       " [6, 94.57455462669955, '#a98099'],\n",
       " [7, 93.85391358335563, '#300243'],\n",
       " [8, 93.41136201949874, '#0d9951'],\n",
       " [9, 91.13448657399482, '#5052d0'],\n",
       " [10, 90.42296146911713, '#babf73'],\n",
       " [11, 90.13844362280406, '#1f6b57'],\n",
       " [12, 88.7646926777405, '#e31b61'],\n",
       " [13, 88.01678934954185, '#98a533'],\n",
       " [14, 88.00976648721924, '#98cd68'],\n",
       " [15, 87.32878751919347, '#410edb'],\n",
       " [16, 86.62185562059751, '#64de2b'],\n",
       " [17, 86.48593665697689, '#357e81'],\n",
       " [18, 86.37957496213448, '#7c0b86'],\n",
       " [19, 85.97549359494285, '#9e5283'],\n",
       " [20, 84.33339182476733, '#40177d'],\n",
       " [21, 84.0621619887562, '#032190'],\n",
       " [22, 83.80228391092436, '#47a2e5'],\n",
       " [23, 83.09550389814517, '#6ad6bc'],\n",
       " [24, 80.30727603331148, '#8daabd'],\n",
       " [25, 80.23211369571031, '#d53f08'],\n",
       " [26, 80.19391658892394, '#8112b7'],\n",
       " [27, 80.15512406356056, '#54030a'],\n",
       " [28, 79.7884261127344, '#ce00e2'],\n",
       " [29, 79.57111675892892, '#467516'],\n",
       " [30, 79.27308664298243, '#786fa1'],\n",
       " [31, 79.17654550547442, '#1af701'],\n",
       " [32, 78.95737844042421, '#5b7a61'],\n",
       " [33, 78.79652381166883, '#eb69b8'],\n",
       " [34, 77.67783658898337, '#96e8ea'],\n",
       " [35, 76.16938049700657, '#8b0666'],\n",
       " [36, 76.09881405533697, '#80fe5b'],\n",
       " [37, 75.44597539131505, '#ce0c69'],\n",
       " [38, 73.89876961576269, '#d35ec7'],\n",
       " [39, 71.99506457749469, '#7941a1'],\n",
       " [40, 70.13974871949439, '#80d32d'],\n",
       " [41, 66.55724551646942, '#6b0039'],\n",
       " [42, 65.99369521551692, '#99418a'],\n",
       " [43, 64.13418447488681, '#ec6111'],\n",
       " [44, 63.56815008260364, '#f0b4ac'],\n",
       " [45, 62.63359930827757, '#3684bf'],\n",
       " [46, 61.38472094550187, '#390211'],\n",
       " [47, 61.35322088866967, '#5e6df5'],\n",
       " [48, 60.39373037687326, '#347e65'],\n",
       " [49, 60.04484972540324, '#32f04c'],\n",
       " [50, 58.066458510386894, '#774d3c'],\n",
       " [51, 56.3855984035218, '#fab57a'],\n",
       " [52, 53.815392678779105, '#6e9ec6'],\n",
       " [53, 53.52186221353369, '#13eb39'],\n",
       " [54, 53.39745355834642, '#6ee2af'],\n",
       " [55, 52.18556210733208, '#52a84c'],\n",
       " [56, 52.03842136283654, '#c2c363'],\n",
       " [57, 51.031139659652204, '#5ff505'],\n",
       " [58, 47.986380743489846, '#012a9e'],\n",
       " [59, 47.704846799290344, '#b27da1'],\n",
       " [60, 45.35839391774, '#059fdb'],\n",
       " [61, 43.99432557719921, '#528a36'],\n",
       " [62, 42.33174274264191, '#932e70'],\n",
       " [63, 41.08009619709574, '#5cee5a'],\n",
       " [64, 40.77378540308088, '#134d59'],\n",
       " [65, 38.989286372501994, '#607b64'],\n",
       " [66, 38.23020804486631, '#962246'],\n",
       " [67, 38.16554247285854, '#82d97e'],\n",
       " [68, 37.64809285271391, '#28b073'],\n",
       " [69, 37.17901640946084, '#b226f7'],\n",
       " [70, 35.21187180414355, '#912c2c'],\n",
       " [71, 33.552843554379294, '#026830'],\n",
       " [72, 33.368207220092586, '#9b24c1'],\n",
       " [73, 32.980276548477974, '#528b16'],\n",
       " [74, 32.74325572797766, '#fb62aa'],\n",
       " [75, 32.6390699656935, '#aa34ee'],\n",
       " [76, 28.44991251044743, '#89ddbc'],\n",
       " [77, 25.512681203436706, '#9ee68c'],\n",
       " [78, 25.026401719981862, '#dcf3e1'],\n",
       " [79, 23.560859786378828, '#bf8247'],\n",
       " [80, 22.982369009700953, '#82ec84'],\n",
       " [81, 21.68385964183831, '#e64193'],\n",
       " [82, 21.366842764020543, '#764c21'],\n",
       " [83, 18.899813329790426, '#c8d73a'],\n",
       " [84, 18.636521453035716, '#070d30'],\n",
       " [85, 17.31639008488125, '#6bf20f'],\n",
       " [86, 16.310055336383712, '#64a2ae'],\n",
       " [87, 16.29135334799521, '#11039f'],\n",
       " [88, 13.985425896095682, '#60fa7a'],\n",
       " [89, 9.086394438344648, '#f964bd'],\n",
       " [90, 8.532877347768597, '#004223'],\n",
       " [91, 8.437783255344588, '#f4d9b7'],\n",
       " [92, 8.13944840433578, '#491eb9'],\n",
       " [93, 7.674405826575759, '#ac8489'],\n",
       " [94, 6.492341344590347, '#0e5127'],\n",
       " [95, 4.491903722104695, '#ccd06a'],\n",
       " [96, 4.039581495925226, '#82ad8e'],\n",
       " [97, 3.059772768629987, '#e2f47a'],\n",
       " [98, 1.887085877861483, '#d385d2'],\n",
       " [99, 0.9621545690597921, '#f81fd5']]"
      ]
     },
     "execution_count": 49,
     "metadata": {},
     "output_type": "execute_result"
    }
   ],
   "source": [
    "co = puntos(100)\n",
    "sort(co)\n",
    "co"
   ]
  },
  {
   "cell_type": "code",
   "execution_count": 50,
   "metadata": {},
   "outputs": [
    {
     "data": {
      "text/plain": [
       "'#'"
      ]
     },
     "execution_count": 50,
     "metadata": {},
     "output_type": "execute_result"
    }
   ],
   "source": [
    "co[0][2][0]"
   ]
  },
  {
   "cell_type": "code",
   "execution_count": 54,
   "metadata": {
    "scrolled": false
   },
   "outputs": [
    {
     "data": {
      "image/png": "[encoded data removed]",
      "text/plain": [
       "<Figure size 432x288 with 1 Axes>"
      ]
     },
     "metadata": {
      "needs_background": "light"
     },
     "output_type": "display_data"
    }
   ],
   "source": [
    "co = puntos(10)\n",
    "for i in range(len(co)):\n",
    "    plt.scatter(i, co[i][1], c=co[i][2], s=100)"
   ]
  },
  {
   "cell_type": "code",
   "execution_count": 55,
   "metadata": {},
   "outputs": [
    {
     "data": {
      "image/png": "[encoded data removed]",
      "text/plain": [
       "<Figure size 432x288 with 1 Axes>"
      ]
     },
     "metadata": {
      "needs_background": "light"
     },
     "output_type": "display_data"
    }
   ],
   "source": [
    "sort(co)\n",
    "for i in range(len(co)):\n",
    "    plt.scatter(i, co[i][1], c=co[i][2], s=100)\n",
    "plt.show()"
   ]
  },
  {
   "cell_type": "code",
   "execution_count": null,
   "metadata": {},
   "outputs": [],
   "source": []
  }
 ],
 "metadata": {
  "kernelspec": {
   "display_name": "Python 3",
   "language": "python",
   "name": "python3"
  },
  "language_info": {
   "codemirror_mode": {
    "name": "ipython",
    "version": 3
   },
   "file_extension": ".py",
   "mimetype": "text/x-python",
   "name": "python",
   "nbconvert_exporter": "python",
   "pygments_lexer": "ipython3",
   "version": "3.7.6"
  }
 },
 "nbformat": 4,
 "nbformat_minor": 4
}
