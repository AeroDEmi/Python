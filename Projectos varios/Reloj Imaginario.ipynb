{
 "cells": [
  {
   "cell_type": "code",
   "execution_count": 1,
   "metadata": {},
   "outputs": [],
   "source": [
    "import numpy as np\n",
    "from math import sqrt"
   ]
  },
  {
   "cell_type": "code",
   "execution_count": 45,
   "metadata": {},
   "outputs": [],
   "source": [
    "def spiral(N):\n",
    "    assert N%2 == 1\n",
    "    A = np.zeros(shape=(N,N), dtype = int)\n",
    "    x = (N//2)*(1+1j)\n",
    "    a = 1\n",
    "    d = -1j\n",
    "    \n",
    "    for n in range(1, N**2 + 1):\n",
    "        A[int(x.imag), int(x.real)] = n\n",
    "        if n == a:\n",
    "            a += round(sqrt(a))\n",
    "            d *=1j\n",
    "        print(n, x, a, d)\n",
    "        x += d\n",
    "    return A"
   ]
  },
  {
   "cell_type": "code",
   "execution_count": 46,
   "metadata": {
    "scrolled": true
   },
   "outputs": [
    {
     "name": "stdout",
     "output_type": "stream",
     "text": [
      "1 (1+1j) 2 (1-0j)\n",
      "2 (2+1j) 3 1j\n",
      "3 (2+2j) 5 (-1+0j)\n",
      "4 (1+2j) 5 (-1+0j)\n",
      "5 2j 7 (-0-1j)\n",
      "6 1j 7 (-0-1j)\n",
      "7 0j 10 (1-0j)\n",
      "8 (1+0j) 10 (1-0j)\n",
      "9 (2+0j) 10 (1-0j)\n"
     ]
    },
    {
     "data": {
      "text/plain": [
       "array([[7, 8, 9],\n",
       "       [6, 1, 2],\n",
       "       [5, 4, 3]])"
      ]
     },
     "execution_count": 46,
     "metadata": {},
     "output_type": "execute_result"
    }
   ],
   "source": [
    "spiral(3)"
   ]
  },
  {
   "cell_type": "code",
   "execution_count": null,
   "metadata": {},
   "outputs": [],
   "source": []
  }
 ],
 "metadata": {
  "kernelspec": {
   "display_name": "Python 3",
   "language": "python",
   "name": "python3"
  },
  "language_info": {
   "codemirror_mode": {
    "name": "ipython",
    "version": 3
   },
   "file_extension": ".py",
   "mimetype": "text/x-python",
   "name": "python",
   "nbconvert_exporter": "python",
   "pygments_lexer": "ipython3",
   "version": "3.7.6"
  }
 },
 "nbformat": 4,
 "nbformat_minor": 4
}
