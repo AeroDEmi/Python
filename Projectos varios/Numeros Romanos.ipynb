{
 "cells": [
  {
   "cell_type": "code",
   "execution_count": 1,
   "metadata": {},
   "outputs": [],
   "source": [
    "Base = {0:'',1:'I',5:'V',10:'X',50:'L',100:'C',500:'D',1000:'M',5000:'V̅',10000:'X̅', 50000:'L̅', 100000:'C̅', 500000:'D̅', 1000000:'M̅'}"
   ]
  },
  {
   "cell_type": "code",
   "execution_count": 2,
   "metadata": {},
   "outputs": [],
   "source": [
    "def Romans(digit, base):\n",
    "    dbtp = []\n",
    "    digit = int(digit)\n",
    "    if digit in [0,1,5]:\n",
    "        dbtp.append(Base[digit*10**(base-1)])\n",
    "    if digit in [2,3]:\n",
    "        for i in range(digit):\n",
    "            dbtp.append(Romans(1, base))\n",
    "    if digit in [6,7,8]:\n",
    "        dbtp.append(Romans(5, base))\n",
    "        for i in range(digit-5):\n",
    "            dbtp.append(Romans(1,base))\n",
    "    if digit == 4:\n",
    "        dbtp.append(Romans(1, base))\n",
    "        dbtp.append(Romans(5, base))\n",
    "    if digit == 9:\n",
    "        dbtp.append(Romans(1, base))\n",
    "        dbtp.append(Romans(1, base+1))\n",
    "    char = ''.join(dbtp)\n",
    "    return char"
   ]
  },
  {
   "cell_type": "code",
   "execution_count": 3,
   "metadata": {},
   "outputs": [],
   "source": [
    "def ToRome(num):\n",
    "    num = int(num)\n",
    "    num_decimales= int(len(str(num)))\n",
    "    cont=0\n",
    "    char=[]\n",
    "    for i in range(num_decimales):\n",
    "        char.append(Romans(str(num)[i], (num_decimales-cont)))\n",
    "        cont +=1\n",
    "    return ''.join(char)"
   ]
  },
  {
   "cell_type": "code",
   "execution_count": 6,
   "metadata": {
    "scrolled": true
   },
   "outputs": [
    {
     "data": {
      "text/plain": [
       "'CXI'"
      ]
     },
     "execution_count": 6,
     "metadata": {},
     "output_type": "execute_result"
    }
   ],
   "source": [
    "ToRome(111)"
   ]
  },
  {
   "cell_type": "code",
   "execution_count": null,
   "metadata": {},
   "outputs": [],
   "source": []
  }
 ],
 "metadata": {
  "kernelspec": {
   "display_name": "Python 3",
   "language": "python",
   "name": "python3"
  },
  "language_info": {
   "codemirror_mode": {
    "name": "ipython",
    "version": 3
   },
   "file_extension": ".py",
   "mimetype": "text/x-python",
   "name": "python",
   "nbconvert_exporter": "python",
   "pygments_lexer": "ipython3",
   "version": "3.7.6"
  }
 },
 "nbformat": 4,
 "nbformat_minor": 4
}
