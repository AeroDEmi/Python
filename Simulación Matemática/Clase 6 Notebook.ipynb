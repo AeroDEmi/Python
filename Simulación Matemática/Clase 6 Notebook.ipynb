{
 "cells": [
  {
   "cell_type": "markdown",
   "metadata": {},
   "source": [
    "# Clase 6"
   ]
  },
  {
   "cell_type": "markdown",
   "metadata": {},
   "source": [
    "Mónica hace aretes y cadenitas de joyería... Le toma 30 minutos hacer un par de aretes y una hora hacer una cadenita,\n",
    "y como Mónica también es estudiahambre, solo dispone de 10 horas a la semana para hacer las joyas.\n",
    "Por otra parte, el material que compra solo le alcanza para hacer 15 unidades de joyas por semana.\n",
    "\n",
    "Los aretes dan utilidad de $\\$15 $  y $\\$20 $ en cadenita. Maximíza su utilidad"
   ]
  },
  {
   "cell_type": "markdown",
   "metadata": {},
   "source": [
    "<br>"
   ]
  },
  {
   "cell_type": "code",
   "execution_count": 1,
   "metadata": {},
   "outputs": [],
   "source": [
    "import scipy.optimize as opt\n",
    "import numpy as np\n",
    "import sympy as sym\n",
    "from decimal import *\n",
    "sym.init_printing(use_latex='mathjax')"
   ]
  },
  {
   "cell_type": "markdown",
   "metadata": {},
   "source": [
    "La función para maximizar es  $f= 15x_0 + 20x_1$"
   ]
  },
  {
   "cell_type": "code",
   "execution_count": 2,
   "metadata": {
    "scrolled": true
   },
   "outputs": [
    {
     "data": {
      "text/latex": [
       "$$\\left [ -15, \\quad -20\\right ]$$"
      ],
      "text/plain": [
       "[-15, -20]"
      ]
     },
     "execution_count": 2,
     "metadata": {},
     "output_type": "execute_result"
    }
   ],
   "source": [
    "f = [-15, -20]\n",
    "f"
   ]
  },
  {
   "cell_type": "markdown",
   "metadata": {},
   "source": [
    "Su matriz es:\n",
    "<br>\n",
    "$0.5x_0 + 1x_1 = 10$\n",
    "<br>\n",
    "$x_0 + x_1 = 15$"
   ]
  },
  {
   "cell_type": "code",
   "execution_count": 3,
   "metadata": {},
   "outputs": [
    {
     "data": {
      "text/latex": [
       "$$\\left ( \\left [ \\left [ 0.5, \\quad 1\\right ], \\quad \\left [ 1, \\quad 1\\right ]\\right ], \\quad \\left [ 10, \\quad 15\\right ]\\right )$$"
      ],
      "text/plain": [
       "([[0.5, 1], [1, 1]], [10, 15])"
      ]
     },
     "execution_count": 3,
     "metadata": {},
     "output_type": "execute_result"
    }
   ],
   "source": [
    "A = [[0.5, 1], [1,1]]\n",
    "b = [10,15]\n",
    "A,b"
   ]
  },
  {
   "cell_type": "code",
   "execution_count": 4,
   "metadata": {},
   "outputs": [],
   "source": [
    "x0_bound = (0, None)\n",
    "x1_bound = (0, None)"
   ]
  },
  {
   "cell_type": "code",
   "execution_count": 5,
   "metadata": {},
   "outputs": [
    {
     "name": "stdout",
     "output_type": "stream",
     "text": [
      "Optimization terminated successfully.\n",
      "         Current function value: -250.000000 \n",
      "         Iterations: 2\n"
     ]
    },
    {
     "data": {
      "text/plain": [
       "array([10.,  5.])"
      ]
     },
     "execution_count": 5,
     "metadata": {},
     "output_type": "execute_result"
    }
   ],
   "source": [
    "res = opt.linprog(f, A_ub=A, b_ub=b, bounds=(x0_bound, x1_bound),options={'disp':True})\n",
    "res\n",
    "res.x"
   ]
  },
  {
   "cell_type": "markdown",
   "metadata": {},
   "source": [
    "Nuestro resulatdo nos da que necesita vender **10 aretes y 5 cadenas**, para maximizar su ingreso de **\\$250**"
   ]
  },
  {
   "cell_type": "markdown",
   "metadata": {},
   "source": [
    "***"
   ]
  },
  {
   "cell_type": "markdown",
   "metadata": {},
   "source": [
    "### Con diferentes parámetros"
   ]
  },
  {
   "cell_type": "markdown",
   "metadata": {},
   "source": [
    "Mónica hace aretes y cadenitas de joyería... Le toma 15 minutos hacer un par de aretes y 45 min el hacer una cadenita,\n",
    "y como Mónica también es estudiahambre, solo dispone de 8 horas a la semana para hacer las joyas.\n",
    "Por otra parte, el material que compra solo le alcanza para hacer 20 unidades de joyas por semana.\n",
    "\n",
    "Los aretes dan utilidad de $\\$15 $  y  $\\$20 $ en cadenita. Maximíza su utilidad"
   ]
  },
  {
   "cell_type": "markdown",
   "metadata": {},
   "source": [
    "La función para maximizar es  $f= 15x_0 + 20x_1$"
   ]
  },
  {
   "cell_type": "code",
   "execution_count": 6,
   "metadata": {},
   "outputs": [
    {
     "data": {
      "text/latex": [
       "$$\\left [ -15, \\quad -20\\right ]$$"
      ],
      "text/plain": [
       "[-15, -20]"
      ]
     },
     "execution_count": 6,
     "metadata": {},
     "output_type": "execute_result"
    }
   ],
   "source": [
    "f = [-15, -20]\n",
    "f"
   ]
  },
  {
   "cell_type": "markdown",
   "metadata": {},
   "source": [
    "Su matriz es:\n",
    "<br>\n",
    "$0.25x_0 + 0.75x_1 = 8$\n",
    "<br>\n",
    "$x_0 + x_1 = 20$"
   ]
  },
  {
   "cell_type": "code",
   "execution_count": 7,
   "metadata": {},
   "outputs": [
    {
     "data": {
      "text/latex": [
       "$$\\left ( \\left [ \\left [ 0.25, \\quad 0.75\\right ], \\quad \\left [ 1, \\quad 1\\right ]\\right ], \\quad \\left [ 8, \\quad 20\\right ]\\right )$$"
      ],
      "text/plain": [
       "([[0.25, 0.75], [1, 1]], [8, 20])"
      ]
     },
     "execution_count": 7,
     "metadata": {},
     "output_type": "execute_result"
    }
   ],
   "source": [
    "A = [[0.25, 0.75], [1,1]]\n",
    "b = [8,20]\n",
    "A,b"
   ]
  },
  {
   "cell_type": "code",
   "execution_count": 8,
   "metadata": {},
   "outputs": [],
   "source": [
    "x0_bound = (0, None)\n",
    "x1_bound = (0, None)"
   ]
  },
  {
   "cell_type": "code",
   "execution_count": 9,
   "metadata": {},
   "outputs": [
    {
     "name": "stdout",
     "output_type": "stream",
     "text": [
      "Optimization terminated successfully.\n",
      "         Current function value: -330.000000 \n",
      "         Iterations: 2\n"
     ]
    },
    {
     "data": {
      "text/plain": [
       "array([14.,  6.])"
      ]
     },
     "execution_count": 9,
     "metadata": {},
     "output_type": "execute_result"
    }
   ],
   "source": [
    "res = opt.linprog(f, A_ub=A, b_ub=b, bounds=(x0_bound, x1_bound),options={'disp':True})\n",
    "res\n",
    "res.x"
   ]
  },
  {
   "cell_type": "markdown",
   "metadata": {},
   "source": [
    "Nuestro resulatdo nos da que necesita vender **14 aretes y 6 cadenas**, para maximizar un ingreso de **\\$330**"
   ]
  }
 ],
 "metadata": {
  "kernelspec": {
   "display_name": "Python 3",
   "language": "python",
   "name": "python3"
  },
  "language_info": {
   "codemirror_mode": {
    "name": "ipython",
    "version": 3
   },
   "file_extension": ".py",
   "mimetype": "text/x-python",
   "name": "python",
   "nbconvert_exporter": "python",
   "pygments_lexer": "ipython3",
   "version": "3.7.1"
  }
 },
 "nbformat": 4,
 "nbformat_minor": 2
}
