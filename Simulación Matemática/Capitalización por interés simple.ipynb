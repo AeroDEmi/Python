{
 "cells": [
  {
   "cell_type": "markdown",
   "metadata": {},
   "source": [
    "<div style=\"text-align: right\"> Diego Emiliano Rodea Ruano "
   ]
  },
  {
   "cell_type": "markdown",
   "metadata": {},
   "source": [
    "# **CAPITALIZACIÓN POR INTERES SIMPLE**"
   ]
  },
  {
   "cell_type": "markdown",
   "metadata": {},
   "source": [
    "#### Vamos a comparar dos modelos uno con parametrización y otro sin."
   ]
  },
  {
   "cell_type": "markdown",
   "metadata": {},
   "source": [
    "Primero el modelo sin parametrización"
   ]
  },
  {
   "cell_type": "code",
   "execution_count": 1,
   "metadata": {},
   "outputs": [],
   "source": [
    "import numpy as np"
   ]
  },
  {
   "cell_type": "code",
   "execution_count": 40,
   "metadata": {},
   "outputs": [],
   "source": [
    "C_0, meta, i = 35000, 50000, 0.008"
   ]
  },
  {
   "cell_type": "markdown",
   "metadata": {},
   "source": [
    "C_k es la meta "
   ]
  },
  {
   "cell_type": "code",
   "execution_count": 41,
   "metadata": {},
   "outputs": [
    {
     "data": {
      "text/plain": [
       "54.0"
      ]
     },
     "execution_count": 41,
     "metadata": {},
     "output_type": "execute_result"
    }
   ],
   "source": [
    "k = np.ceil((meta/C_0 - 1)/i)\n",
    "k "
   ]
  },
  {
   "cell_type": "code",
   "execution_count": 42,
   "metadata": {},
   "outputs": [
    {
     "data": {
      "text/plain": [
       "54"
      ]
     },
     "execution_count": 42,
     "metadata": {},
     "output_type": "execute_result"
    }
   ],
   "source": [
    "k = k.astype(int)\n",
    "k"
   ]
  },
  {
   "cell_type": "code",
   "execution_count": 43,
   "metadata": {},
   "outputs": [
    {
     "data": {
      "text/plain": [
       "50120.0"
      ]
     },
     "execution_count": 43,
     "metadata": {},
     "output_type": "execute_result"
    }
   ],
   "source": [
    "C_k = C_0*(1+k*i)\n",
    "C_k"
   ]
  },
  {
   "cell_type": "code",
   "execution_count": 44,
   "metadata": {},
   "outputs": [
    {
     "data": {
      "text/plain": [
       "50120.0"
      ]
     },
     "execution_count": 44,
     "metadata": {},
     "output_type": "execute_result"
    }
   ],
   "source": [
    "C_k = np.round(C_k,2)\n",
    "C_k"
   ]
  },
  {
   "cell_type": "code",
   "execution_count": 45,
   "metadata": {},
   "outputs": [
    {
     "name": "stdout",
     "output_type": "stream",
     "text": [
      "El número de periodos que se debe dejar invertido es 54 . Al final del periodo  54 el capital será  50120.0 .\n"
     ]
    }
   ],
   "source": [
    "print(\"El número de periodos que se debe dejar invertido es\",k,\". Al final del periodo \",k, \"el capital será \",C_k,\".\", sep=\" \")"
   ]
  },
  {
   "cell_type": "markdown",
   "metadata": {},
   "source": [
    "Veamos la parametrización de la segunda manera"
   ]
  },
  {
   "cell_type": "code",
   "execution_count": 46,
   "metadata": {},
   "outputs": [],
   "source": [
    "import matplotlib.pyplot as plt\n",
    "%matplotlib inline\n",
    "from ipywidgets import *"
   ]
  },
  {
   "cell_type": "code",
   "execution_count": 55,
   "metadata": {},
   "outputs": [
    {
     "data": {
      "application/vnd.jupyter.widget-view+json": {
       "model_id": "98bf9b8c651c4c1898782813022f6284",
       "version_major": 2,
       "version_minor": 0
      },
      "text/plain": [
       "interactive(children=(IntSlider(value=52500, description='meta', max=70000, min=35000, step=100), Button(descr…"
      ]
     },
     "metadata": {},
     "output_type": "display_data"
    }
   ],
   "source": [
    "def interes_simple(C_0, meta, i):\n",
    "    # Despejamos k\n",
    "    k = np.ceil((meta/C_0 - 1)/i)           # Notar el uso de la función ceil\n",
    "    k = k.astype(int)                       # Conversión a entero\n",
    "    C_k = C_0*(1+k*i)                       # Cálculo del capital al final del periodo k\n",
    "    C_k = round(C_k, 2)                     # Redondeo con dos cifras decimales\n",
    "    # Vector de periodos\n",
    "    kk = np.linspace(0,k,k+1)               \n",
    "    # Vector de capitales por periodo\n",
    "    CC = C_0*(1+kk*i)\n",
    "    # Gráfico\n",
    "    plt.figure(figsize=(14,6))\n",
    "    plt.figure(num=1); plt.clf()            # Figura 1, borrar lo que contenga\n",
    "    plt.plot(kk, CC,'*',linewidth=3.0)      # Se grafica la evolución de los capitales\n",
    "    plt.plot(kk,meta*np.ones(k+1),'--k')    # Se grafica la meta\n",
    "    plt.xlabel('Periodos')                         # Etiqueta eje x\n",
    "    plt.ylabel('Monto')                       # Etiqueta eje y\n",
    "    plt.grid(True)                          # Malla en la gráfica\n",
    "    plt.show()                              # Mostrar la figura\n",
    "    print(\"El número de periodos que se debe dejar invertido el dinero para llegar a la meta de \", meta,\" es \", k,\n",
    "          \". Al final del periodo \", k,\", el capital es \", C_k, \".\", sep=\"\")\n",
    "    \n",
    "interact_manual(interes_simple, C_0=fixed(35000), meta=(C_0,70000,100), i=fixed(0.008));"
   ]
  },
  {
   "cell_type": "markdown",
   "metadata": {},
   "source": [
    "Entre las dos soluciones, me parece que la segunda es mucho mejor que la primera ya que además de que nos dice exactamente lo mismo que la primera además tenemos todo definido como una función y tenemos un gráfico que nos muestra los resultados"
   ]
  }
 ],
 "metadata": {
  "kernelspec": {
   "display_name": "Python 3",
   "language": "python",
   "name": "python3"
  },
  "language_info": {
   "codemirror_mode": {
    "name": "ipython",
    "version": 3
   },
   "file_extension": ".py",
   "mimetype": "text/x-python",
   "name": "python",
   "nbconvert_exporter": "python",
   "pygments_lexer": "ipython3",
   "version": "3.7.1"
  }
 },
 "nbformat": 4,
 "nbformat_minor": 2
}
